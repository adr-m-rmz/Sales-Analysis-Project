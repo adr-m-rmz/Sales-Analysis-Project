{
 "cells": [
  {
   "cell_type": "markdown",
   "metadata": {},
   "source": [
    "PHASE 1: ASK\n",
    "\n"
   ]
  },
  {
   "cell_type": "markdown",
   "metadata": {},
   "source": [
    "Business Objective: Conduct a comprehensive analysis of the sales performance of an online store, broken down by products, periods of time, and customers. From this analysis, the aim is to devise effective strategies to boost sales and optimize future inventory management."
   ]
  },
  {
   "cell_type": "code",
   "execution_count": null,
   "metadata": {},
   "outputs": [],
   "source": [
    "# Guiding questions:\n",
    "\n",
    "# Which are the most sold products?\n",
    "\n",
    "# Which products generate the most revenue?\n",
    "\n",
    "# In which months, days, hours of day, are the most revenue generated? \n",
    "\n",
    "# Who are the most valuable customers? "
   ]
  },
  {
   "cell_type": "markdown",
   "metadata": {},
   "source": [
    "PHASE 2: PREPARE"
   ]
  },
  {
   "cell_type": "code",
   "execution_count": null,
   "metadata": {},
   "outputs": [],
   "source": [
    "# Importing the libraries\n",
    "import pandas as pd\n",
    "import matplotlib.pyplot as plt\n",
    "import seaborn as sns"
   ]
  },
  {
   "cell_type": "code",
   "execution_count": null,
   "metadata": {},
   "outputs": [],
   "source": [
    "# Creating the data frame\n",
    "sales = pd.read_csv(\"C:/Users/adria/OneDrive/Documentos/Sales_proyect/Online_Retail.csv\", encoding='latin1')"
   ]
  },
  {
   "cell_type": "code",
   "execution_count": null,
   "metadata": {},
   "outputs": [],
   "source": [
    "# Checking data types\n",
    "print(sales.dtypes)"
   ]
  },
  {
   "cell_type": "code",
   "execution_count": 47,
   "metadata": {},
   "outputs": [
    {
     "name": "stdout",
     "output_type": "stream",
     "text": [
      "            Quantity                    InvoiceDate      UnitPrice  \\\n",
      "count  541909.000000                         541909  541909.000000   \n",
      "mean        9.552250  2011-07-04 13:34:57.156386048       4.611114   \n",
      "min    -80995.000000            2010-12-01 08:26:00  -11062.060000   \n",
      "25%         1.000000            2011-03-28 11:34:00       1.250000   \n",
      "50%         3.000000            2011-07-19 17:17:00       2.080000   \n",
      "75%        10.000000            2011-10-19 11:27:00       4.130000   \n",
      "max     80995.000000            2011-12-09 12:50:00   38970.000000   \n",
      "std       218.081158                            NaN      96.759853   \n",
      "\n",
      "          CustomerID  \n",
      "count  406829.000000  \n",
      "mean    15287.690570  \n",
      "min     12346.000000  \n",
      "25%     13953.000000  \n",
      "50%     15152.000000  \n",
      "75%     16791.000000  \n",
      "max     18287.000000  \n",
      "std      1713.600303  \n"
     ]
    }
   ],
   "source": [
    "print(sales.describe())\n",
    "# Outliers were examined in Excel by appplying filters. "
   ]
  },
  {
   "cell_type": "markdown",
   "metadata": {},
   "source": [
    "PHASE 3: CLEANING"
   ]
  },
  {
   "cell_type": "code",
   "execution_count": null,
   "metadata": {},
   "outputs": [],
   "source": [
    "# In order to work with complete months, it is necessary to delimit the sales from 1st December 2010 to 30th November 2011\n",
    "\n",
    "# First, conversion of column InvoiceDate from object type to datetime type\n",
    "sales['InvoiceDate'] = pd.to_datetime(sales['InvoiceDate'], format='%d/%m/%Y %H:%M')\n",
    "\n",
    "# Now, the filter can be applied\n",
    "sales_clean = sales[sales['InvoiceDate'].between('2010-12-01', '2011-11-30')]"
   ]
  },
  {
   "cell_type": "code",
   "execution_count": null,
   "metadata": {},
   "outputs": [],
   "source": [
    "# I assume most of the NaN values in column CustomerID are uncompleted purchases, so them won´t be considered.\n",
    "# The rest of NaN values seem to be missing products, them also won´t be considered for this project.\n",
    "\n",
    "# Delete of NaN values in CustomerID column\n",
    "sales_clean = sales_clean.dropna(subset=['CustomerID'])"
   ]
  },
  {
   "cell_type": "code",
   "execution_count": null,
   "metadata": {},
   "outputs": [],
   "source": [
    "# Count of NaN values before cleaning\n",
    "nan_count = sales.isna().sum().sum()\n",
    "print(f'The total amount of NaN values in CustomerID before cleaning is: {nan_count}')\n",
    "\n",
    "# Count of NaN values after cleaning\n",
    "nan_count_2 = sales_clean.isna().sum().sum()\n",
    "print(f'The total amount of NaN values in CustomerID after cleaning is:{nan_count_2}')"
   ]
  },
  {
   "cell_type": "code",
   "execution_count": null,
   "metadata": {},
   "outputs": [],
   "source": [
    "# Creating new columns\n",
    "sales_clean['Revenue'] = sales_clean['Quantity'] * sales['UnitPrice'] #Revenue column\n",
    "\n",
    "sales_clean['InvoiceMonth'] = sales_clean['InvoiceDate'].dt.month     #InvoiceMonth column\n",
    "\n",
    "sales_clean['InvoiceDay'] = sales_clean['InvoiceDate'].dt.day_name()   #InvoiceDay column\n",
    "\n",
    "sales_clean['HourofDay'] = sales_clean['InvoiceDate'].dt.hour          #HourofDay column"
   ]
  },
  {
   "cell_type": "code",
   "execution_count": null,
   "metadata": {},
   "outputs": [],
   "source": [
    "# Rearrenging the order of columns\n",
    "new_order = ['InvoiceNo', 'StockCode', 'Description', 'Quantity', 'UnitPrice', 'Revenue', 'InvoiceDate', 'InvoiceMonth', 'InvoiceDay', 'HourofDay', 'Country', 'CustomerID',]\n",
    "sales_clean = sales_clean[new_order]"
   ]
  },
  {
   "cell_type": "markdown",
   "metadata": {},
   "source": [
    "PHASE  4 & 5: ANALYSIS AND SHARE"
   ]
  },
  {
   "cell_type": "code",
   "execution_count": null,
   "metadata": {},
   "outputs": [],
   "source": [
    " # Analysis by time\n",
    "\n",
    "# Monthly revenue \n",
    "monthly_revenue = sales_clean.groupby('InvoiceMonth')['Revenue'].sum().sort_values(ascending=False)\n",
    "print(monthly_revenue)\n",
    "\n",
    "# Plot\n",
    "monthly_revenue = monthly_revenue.sort_index()\n",
    "monthly_revenue.plot(kind='bar')\n",
    "plt.title('Monthly Revenue')\n",
    "plt.ylabel('Revenue')\n",
    "plt.show()\n",
    "\n",
    " # Daily revenue \n",
    "daily_revenue = sales_clean.groupby('InvoiceDay')['Revenue'].sum().sort_values(ascending=False)\n",
    "print(daily_revenue)\n",
    "\n",
    "# Plot\n",
    "order_of_days = ['Monday', 'Tuesday', 'Wednesday', 'Thursday', 'Friday', 'Sunday']\n",
    "daily_revenue = daily_revenue.loc[order_of_days]\n",
    "daily_revenue.plot(kind='bar')\n",
    "plt.title('Daily Revenue')\n",
    "plt.ylabel('Revenue')\n",
    "plt.show()\n",
    "\n",
    "# Revenue by hour of day\n",
    "byhour_revenue = sales_clean.groupby('HourofDay')['Revenue'].sum().sort_values(ascending=False)\n",
    "print(byhour_revenue)\n",
    "\n",
    "# Plot\n",
    "byhour_revenue = byhour_revenue.sort_index()\n",
    "byhour_revenue.plot(kind='bar')\n",
    "plt.title('Revenue by Hour of Day')\n",
    "plt.ylabel('Revenue')\n",
    "plt.show()"
   ]
  },
  {
   "cell_type": "code",
   "execution_count": null,
   "metadata": {},
   "outputs": [],
   "source": [
    "# Analysis of products\n",
    "\n",
    "# Most profitable products\n",
    "most_profitable = sales_clean.groupby(['Description','StockCode'])['Revenue'].sum().sort_values(ascending=False).head(10)\n",
    "print(most_profitable)\n",
    "\n",
    "# Plot\n",
    "most_profitable.plot(kind='bar')\n",
    "plt.title('Most Profitable Products')\n",
    "plt.ylabel('Revenue')\n",
    "plt.show()\n",
    "\n",
    "# Most sold products\n",
    "most_sold = sales_clean.groupby(['Description','StockCode'])['Quantity'].sum().sort_values(ascending=False).head(10)\n",
    "print(most_sold)\n",
    "\n",
    "# Plot\n",
    "most_sold.plot(kind='bar')\n",
    "plt.title('Most Sold Products')\n",
    "plt.ylabel('Quantity')\n",
    "plt.show()\n",
    "\n",
    "# Products in both rankings\n",
    "products_both_rankings = most_sold.index.intersection(most_profitable.index)\n",
    "print(products_both_rankings)"
   ]
  },
  {
   "cell_type": "code",
   "execution_count": null,
   "metadata": {},
   "outputs": [],
   "source": [
    "# Analysis RFM (customer behaivor)\n",
    "\n",
    "# Recency: days since last purchase\n",
    "snapshot_date = sales_clean['InvoiceDate'].max() + pd.Timedelta(days=1)\n",
    "rfm = sales_clean.groupby('CustomerID').agg({\n",
    "    'InvoiceDate': lambda x: (snapshot_date - x.max()).days,\n",
    "    'InvoiceNo': 'count',\n",
    "    'Revenue': 'sum'\n",
    "})\n",
    "\n",
    "# Rename columns\n",
    "rfm.columns = ['Recency', 'Frequency', 'Monetary']\n",
    "\n",
    "# Clasification of RFM\n",
    "rfm['R_Score'] = pd.qcut(rfm['Recency'], 4, labels=range(4, 0, -1))\n",
    "rfm['F_Score'] = pd.qcut(rfm['Frequency'].rank(method='first'), 4, labels=range(1, 5))\n",
    "rfm['M_Score'] = pd.qcut(rfm['Monetary'], 4, labels=range(1, 5))\n",
    "\n",
    "# RFM Segment\n",
    "rfm['RFM_Segment'] = rfm['R_Score'].astype(str) + rfm['F_Score'].astype(str) + rfm['M_Score'].astype(str)\n",
    "rfm['RFM_Score'] = rfm[['R_Score', 'F_Score', 'M_Score']].sum(axis=1)\n",
    "\n",
    "# Agrupation by segment\n",
    "rfm_segments = rfm.groupby('RFM_Segment').agg({\n",
    "    'Recency': 'mean',\n",
    "    'Frequency': 'mean',\n",
    "    'Monetary': ['mean', 'count']\n",
    "}).round(1)\n",
    "print(rfm_segments)\n",
    "\n",
    "# Plot\n",
    "plt.figure(figsize=(12, 8))\n",
    "sns.scatterplot(x='Recency', y='Monetary', size='Frequency', data=rfm)\n",
    "plt.title('Análisis RFM - Scatterplot')\n",
    "plt.xlabel('Recency')\n",
    "plt.ylabel('Monetary')\n",
    "plt.show()\n"
   ]
  },
  {
   "cell_type": "code",
   "execution_count": null,
   "metadata": {},
   "outputs": [],
   "source": [
    "# Key findings\n",
    "\n",
    "# The highest revenue-generating months are September, October, and November, while the most profitable days of the week are Tuesday and Thursday, and the peak hours for revenue generation are from 10:00 to 13:59.\n",
    "\n",
    "# Products wich are both in most sold products and most profitable products are: JUMBO BAG RED RETROSPOT, ASSORTED COLOUR BIRD ORNAMENT,\n",
    "# WHITE HANGING HEART T-LIGHT HOLDER and RABBIT NIGHT LIGHT.\n",
    "\n",
    "# High-Value Customers are (RFM Segment = 444, 434), and At-Risk Customers are (RFM Segment = 111, 112, 113)."
   ]
  },
  {
   "cell_type": "markdown",
   "metadata": {},
   "source": [
    "PHASE 6: ACT"
   ]
  },
  {
   "cell_type": "code",
   "execution_count": null,
   "metadata": {},
   "outputs": [],
   "source": [
    "# The top three recomendations to boost sales and optimize future inventory managment are: ......"
   ]
  }
 ],
 "metadata": {
  "kernelspec": {
   "display_name": "bluepandas",
   "language": "python",
   "name": "python3"
  },
  "language_info": {
   "codemirror_mode": {
    "name": "ipython",
    "version": 3
   },
   "file_extension": ".py",
   "mimetype": "text/x-python",
   "name": "python",
   "nbconvert_exporter": "python",
   "pygments_lexer": "ipython3",
   "version": "3.11.9"
  }
 },
 "nbformat": 4,
 "nbformat_minor": 2
}
