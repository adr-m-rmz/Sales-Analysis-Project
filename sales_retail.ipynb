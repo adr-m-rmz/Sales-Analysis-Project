{
 "cells": [
  {
   "cell_type": "markdown",
   "metadata": {},
   "source": [
    "PHASE 1: ASK\n",
    "\n"
   ]
  },
  {
   "cell_type": "markdown",
   "metadata": {},
   "source": [
    "Business Objective: Conduct a comprehensive analysis of the sales performance of an online store, broken down by products, periods of time, countries and customers. From this analysis, the aim is to devise effective strategies to boost sales and optimize future inventory management."
   ]
  },
  {
   "cell_type": "code",
   "execution_count": 2,
   "metadata": {},
   "outputs": [],
   "source": [
    "# Guiding questions:\n",
    "\n",
    "# Which are the most sold products?\n",
    "\n",
    "# Which products generate the most revenue?\n",
    "\n",
    "# In which months, days, hours of day, are the most revenue generated? \n",
    "\n",
    "# In which countries are most revenue generated?\n",
    "\n",
    "# Who are the most loyal customers? (considering total spent)"
   ]
  },
  {
   "cell_type": "markdown",
   "metadata": {},
   "source": [
    "PHASE 2: PREPARE"
   ]
  },
  {
   "cell_type": "code",
   "execution_count": 3,
   "metadata": {},
   "outputs": [],
   "source": [
    "# Importing the libraries\n",
    "import pandas as pd\n",
    "import matplotlib.pyplot as plt\n",
    "import seaborn as sns"
   ]
  },
  {
   "cell_type": "code",
   "execution_count": 4,
   "metadata": {},
   "outputs": [],
   "source": [
    "# Creating the data frame\n",
    "sales = pd.read_csv(\"C:/Users/adria/OneDrive/Documentos/Sales_proyect/Online_Retail.csv\", encoding='latin1')"
   ]
  },
  {
   "cell_type": "code",
   "execution_count": 5,
   "metadata": {},
   "outputs": [
    {
     "name": "stdout",
     "output_type": "stream",
     "text": [
      "InvoiceNo       object\n",
      "StockCode       object\n",
      "Description     object\n",
      "Quantity         int64\n",
      "InvoiceDate     object\n",
      "UnitPrice      float64\n",
      "CustomerID     float64\n",
      "Country         object\n",
      "dtype: object\n"
     ]
    }
   ],
   "source": [
    "# Checking data types\n",
    "print(sales.dtypes)"
   ]
  },
  {
   "cell_type": "code",
   "execution_count": 6,
   "metadata": {},
   "outputs": [
    {
     "name": "stdout",
     "output_type": "stream",
     "text": [
      "            Quantity      UnitPrice     CustomerID\n",
      "count  541909.000000  541909.000000  406829.000000\n",
      "mean        9.552250       4.611114   15287.690570\n",
      "std       218.081158      96.759853    1713.600303\n",
      "min    -80995.000000  -11062.060000   12346.000000\n",
      "25%         1.000000       1.250000   13953.000000\n",
      "50%         3.000000       2.080000   15152.000000\n",
      "75%        10.000000       4.130000   16791.000000\n",
      "max     80995.000000   38970.000000   18287.000000\n"
     ]
    }
   ],
   "source": [
    "print(sales.describe())"
   ]
  },
  {
   "cell_type": "markdown",
   "metadata": {},
   "source": [
    "PHASE 3: CLEANING"
   ]
  },
  {
   "cell_type": "code",
   "execution_count": 7,
   "metadata": {},
   "outputs": [],
   "source": [
    "# In order to work with complete months, it is necessary to delimit the sales from 1st December 2010 to 30th November 2011\n",
    "\n",
    "# First, converting column InvoiceDate from object type to datetime type\n",
    "sales['InvoiceDate'] = pd.to_datetime(sales['InvoiceDate'], format='%d/%m/%Y %H:%M')\n",
    "\n",
    "# Now, the filter can be applied\n",
    "sales_clean = sales[sales['InvoiceDate'].between('2010-12-01', '2011-11-30')]"
   ]
  },
  {
   "cell_type": "code",
   "execution_count": 8,
   "metadata": {},
   "outputs": [],
   "source": [
    "# For this project, I assume most of the NaN values in column CustomerID were purchases attempts (uncompleted purchases), so them won´t be considered.\n",
    "# The rest of NaN values seem to be missing products, them also won´t be considered for this project.\n",
    "\n",
    "# Deleting NaN values of CustomerID column\n",
    "sales_clean = sales_clean.dropna(subset=['CustomerID'])"
   ]
  },
  {
   "cell_type": "code",
   "execution_count": 9,
   "metadata": {},
   "outputs": [
    {
     "name": "stdout",
     "output_type": "stream",
     "text": [
      "The total amount of NaN values in CustomerID before cleaning is: 136534\n",
      "The total amount of NaN values in CustomerID after cleaning is:0\n"
     ]
    }
   ],
   "source": [
    "# Counting NaN values before cleaning\n",
    "nan_count = sales.isna().sum().sum()\n",
    "print(f'The total amount of NaN values in CustomerID before cleaning is: {nan_count}')\n",
    "\n",
    "# Counting NaN values after cleaning\n",
    "nan_count_2 = sales_clean.isna().sum().sum()\n",
    "print(f'The total amount of NaN values in CustomerID after cleaning is:{nan_count_2}')"
   ]
  },
  {
   "cell_type": "code",
   "execution_count": 10,
   "metadata": {},
   "outputs": [],
   "source": [
    "# Creating new columns\n",
    "sales_clean['Revenue'] = sales_clean['Quantity'] * sales['UnitPrice'] #Revenue column\n",
    "\n",
    "sales_clean['InvoiceMonth'] = sales_clean['InvoiceDate'].dt.month     #InvoiceMonth column\n",
    "\n",
    "sales_clean['InvoiceDay'] = sales_clean['InvoiceDate'].dt.day_name()   #InvoiceDay column\n",
    "\n",
    "sales_clean['HourofDay'] = sales_clean['InvoiceDate'].dt.hour          #HourofDay column"
   ]
  },
  {
   "cell_type": "code",
   "execution_count": 11,
   "metadata": {},
   "outputs": [],
   "source": [
    "# Rearrenging the order of columns\n",
    "new_order = ['InvoiceNo', 'StockCode', 'Description', 'Quantity', 'UnitPrice', 'Revenue', 'InvoiceDate', 'InvoiceMonth', 'InvoiceDay', 'HourofDay', 'Country', 'CustomerID',]\n",
    "sales_clean = sales_clean[new_order]"
   ]
  },
  {
   "cell_type": "markdown",
   "metadata": {},
   "source": [
    "PHASE  4: ANALYSIS"
   ]
  },
  {
   "cell_type": "code",
   "execution_count": 12,
   "metadata": {},
   "outputs": [
    {
     "name": "stdout",
     "output_type": "stream",
     "text": [
      "InvoiceMonth\n",
      "11    1091886.890\n",
      "10     974603.590\n",
      "9      931440.372\n",
      "5      648251.080\n",
      "8      616368.000\n",
      "6      608013.160\n",
      "3      579964.610\n",
      "7      574238.481\n",
      "12     554604.020\n",
      "1      475074.380\n",
      "2      436546.150\n",
      "4      426047.851\n",
      "Name: Revenue, dtype: float64\n"
     ]
    }
   ],
   "source": [
    " # Monthly revenue \n",
    "monthly_revenue = sales_clean.groupby('InvoiceMonth')['Revenue'].sum().sort_values(ascending=False)\n",
    "print(monthly_revenue)"
   ]
  },
  {
   "cell_type": "code",
   "execution_count": 13,
   "metadata": {},
   "outputs": [
    {
     "name": "stdout",
     "output_type": "stream",
     "text": [
      "InvoiceDay\n",
      "Thursday     1812903.010\n",
      "Tuesday      1519534.391\n",
      "Wednesday    1420965.370\n",
      "Monday       1217916.981\n",
      "Friday       1181620.291\n",
      "Sunday        764098.541\n",
      "Name: Revenue, dtype: float64\n"
     ]
    }
   ],
   "source": [
    " # Daily revenue \n",
    "daily_revenue = sales_clean.groupby('InvoiceDay')['Revenue'].sum().sort_values(ascending=False)\n",
    "print(daily_revenue)"
   ]
  },
  {
   "cell_type": "code",
   "execution_count": 14,
   "metadata": {},
   "outputs": [
    {
     "name": "stdout",
     "output_type": "stream",
     "text": [
      "HourofDay\n",
      "12    1263253.610\n",
      "10    1114794.561\n",
      "13    1075601.290\n",
      "11    1021742.340\n",
      "14     906073.451\n",
      "15     854758.880\n",
      "9      633387.031\n",
      "16     416465.790\n",
      "8      263189.530\n",
      "17     194508.311\n",
      "18      84614.400\n",
      "19      42178.600\n",
      "7       31009.320\n",
      "20      15958.820\n",
      "6        -497.350\n",
      "Name: Revenue, dtype: float64\n"
     ]
    }
   ],
   "source": [
    "# Revenue by hour of day\n",
    "byhour_revenue = sales_clean.groupby('HourofDay')['Revenue'].sum().sort_values(ascending=False)\n",
    "print(byhour_revenue)"
   ]
  },
  {
   "cell_type": "code",
   "execution_count": 15,
   "metadata": {},
   "outputs": [
    {
     "name": "stdout",
     "output_type": "stream",
     "text": [
      "Description                         StockCode\n",
      "REGENCY CAKESTAND 3 TIER            22423        128112.07\n",
      "WHITE HANGING HEART T-LIGHT HOLDER  85123A        91018.51\n",
      "JUMBO BAG RED RETROSPOT             85099B        80960.40\n",
      "PARTY BUNTING                       47566         67172.73\n",
      "POSTAGE                             POST          63475.74\n",
      "ASSORTED COLOUR BIRD ORNAMENT       84879         54310.48\n",
      "CHILLI LIGHTS                       79321         43780.14\n",
      "RABBIT NIGHT LIGHT                  23084         43646.72\n",
      "PICNIC BASKET WICKER 60 PIECES      22502         39619.50\n",
      "PAPER CHAIN KIT 50'S CHRISTMAS      22086         36986.96\n",
      "Name: Revenue, dtype: float64\n"
     ]
    }
   ],
   "source": [
    "# Most profitable products\n",
    "most_profitable = sales_clean.groupby(['Description','StockCode'])['Revenue'].sum().sort_values(ascending=False).head(10)\n",
    "print(most_profitable)"
   ]
  },
  {
   "cell_type": "code",
   "execution_count": 16,
   "metadata": {},
   "outputs": [
    {
     "name": "stdout",
     "output_type": "stream",
     "text": [
      "Description                         StockCode\n",
      "WORLD WAR 2 GLIDERS ASSTD DESIGNS   84077        51612\n",
      "JUMBO BAG RED RETROSPOT             85099B       43874\n",
      "ASSORTED COLOUR BIRD ORNAMENT       84879        33928\n",
      "WHITE HANGING HEART T-LIGHT HOLDER  85123A       33093\n",
      "PACK OF 72 RETROSPOT CAKE CASES     21212        32902\n",
      "MINI PAINT SET VINTAGE              22492        25481\n",
      "POPCORN HOLDER                      22197        24803\n",
      "PACK OF 12 LONDON TISSUES           22616        24660\n",
      "PACK OF 60 PINK PAISLEY CAKE CASES  21977        23823\n",
      "RABBIT NIGHT LIGHT                  23084        23081\n",
      "Name: Quantity, dtype: int64\n"
     ]
    }
   ],
   "source": [
    "# Most sold products\n",
    "most_sold = sales_clean.groupby(['Description','StockCode'])['Quantity'].sum().sort_values(ascending=False).head(10)\n",
    "print(most_sold)"
   ]
  },
  {
   "cell_type": "code",
   "execution_count": 17,
   "metadata": {},
   "outputs": [
    {
     "name": "stdout",
     "output_type": "stream",
     "text": [
      "MultiIndex([(           'JUMBO BAG RED RETROSPOT', '85099B'),\n",
      "            (     'ASSORTED COLOUR BIRD ORNAMENT',  '84879'),\n",
      "            ('WHITE HANGING HEART T-LIGHT HOLDER', '85123A'),\n",
      "            (                'RABBIT NIGHT LIGHT',  '23084')],\n",
      "           names=['Description', 'StockCode'])\n"
     ]
    }
   ],
   "source": [
    "# Products in both rankings\n",
    "products_both_rankings = most_sold.index.intersection(most_profitable.index)\n",
    "print(products_both_rankings)"
   ]
  },
  {
   "cell_type": "code",
   "execution_count": 18,
   "metadata": {},
   "outputs": [
    {
     "name": "stdout",
     "output_type": "stream",
     "text": [
      "Country\n",
      "United Kingdom    6438733.674\n",
      "Netherlands        272814.520\n",
      "EIRE               241714.210\n",
      "Germany            213214.110\n",
      "France             186911.950\n",
      "Australia          137077.270\n",
      "Switzerland         55739.400\n",
      "Spain               54503.150\n",
      "Belgium             39501.530\n",
      "Sweden              36595.910\n",
      "Name: Revenue, dtype: float64\n"
     ]
    }
   ],
   "source": [
    "# Countries with higher sales\n",
    "countries_with_most_sales = sales_clean.groupby('Country')['Revenue'].sum().sort_values(ascending=False).head(10)\n",
    "print(countries_with_most_sales)\n"
   ]
  },
  {
   "cell_type": "code",
   "execution_count": 19,
   "metadata": {},
   "outputs": [
    {
     "name": "stdout",
     "output_type": "stream",
     "text": [
      "CustomerID\n",
      "14646.0    267761.00\n",
      "18102.0    244952.95\n",
      "17450.0    185919.77\n",
      "14911.0    124762.32\n",
      "12415.0    123725.45\n",
      "14156.0    112623.43\n",
      "17511.0     80746.06\n",
      "16684.0     60490.10\n",
      "13694.0     59521.94\n",
      "15311.0     58352.77\n",
      "Name: Revenue, dtype: float64\n"
     ]
    }
   ],
   "source": [
    "# Getting the total spent by Customer\n",
    "total_spent = sales_clean.groupby('CustomerID')['Revenue'].sum().sort_values(ascending=False).head(10)\n",
    "print(total_spent)\n",
    "# This code also considers the cancellations made by customers."
   ]
  },
  {
   "cell_type": "markdown",
   "metadata": {},
   "source": [
    "PHASE 5: SHARE"
   ]
  },
  {
   "cell_type": "code",
   "execution_count": null,
   "metadata": {},
   "outputs": [],
   "source": [
    "# Monthly revenue \n",
    "monthly_revenue = monthly_revenue.sort_index()\n",
    "monthly_revenue.plot(kind='bar')\n",
    "plt.title('Monthly Revenue')\n",
    "plt.ylabel('Revenue')\n",
    "plt.show()\n",
    "\n",
    "# Daily revenue \n",
    "order_of_days = ['Monday', 'Tuesday', 'Wednesday', 'Thursday', 'Friday', 'Sunday']\n",
    "daily_revenue = daily_revenue.loc[order_of_days]\n",
    "daily_revenue.plot(kind='bar')\n",
    "plt.title('Daily Revenue')\n",
    "plt.ylabel('Revenue')\n",
    "plt.show()\n",
    "\n",
    "# Revenue by hour of day\n",
    "byhour_revenue = byhour_revenue.sort_index()\n",
    "byhour_revenue.plot(kind='bar')\n",
    "plt.title('Revenue by Hour of Day')\n",
    "plt.ylabel('Revenue')\n",
    "plt.show()\n",
    "\n",
    "# Most profitable products\n",
    "most_profitable.plot(kind='bar')\n",
    "plt.title('Most Profitable Products')\n",
    "plt.ylabel('Revenue')\n",
    "plt.show()\n",
    "\n",
    "# Most sold products\n",
    "most_sold.plot(kind='bar')\n",
    "plt.title('Most Sold Products')\n",
    "plt.ylabel('Quantity')\n",
    "plt.show()\n",
    "\n",
    "# Countries with higher sales\n",
    "countries_with_most_sales.plot(kind='bar')\n",
    "plt.title('Countries with Higher Sales')\n",
    "plt.ylabel('Revenue')\n",
    "plt.show()\n",
    "\n",
    "# Getting the total spent by Customer\n",
    "total_spent.plot(kind='bar')\n",
    "plt.title('Total Spent by Customer')\n",
    "plt.ylabel('Revenue')\n",
    "plt.show() \n"
   ]
  },
  {
   "cell_type": "code",
   "execution_count": null,
   "metadata": {},
   "outputs": [],
   "source": [
    "# Key findings\n",
    "\n",
    "# The months with most revenue generated are september, october and november. \n",
    "\n",
    "# The days with most revenue generated are Thursday and Tueday\n",
    "\n",
    "# The hours of the day with most revenue generated are between 10:00 and 13:59\n",
    "\n",
    "# The country wich generates the most revenue is UK\n",
    "\n",
    "# The most loyal customers are 14646, 18102, 17450\n",
    "\n",
    "# Products wich are both in most sold products and most profitable products are: JUMBO BAG RED RETROSPOT, ASSORTED COLOUR BIRD ORNAMENT,\n",
    "# WHITE HANGING HEART T-LIGHT HOLDER and RABBIT NIGHT LIGHT."
   ]
  },
  {
   "cell_type": "code",
   "execution_count": null,
   "metadata": {},
   "outputs": [],
   "source": [
    "import pandas as pd\n",
    "from sklearn.model_selection import train_test_split\n",
    "from sklearn.linear_model import LinearRegression\n",
    "from sklearn.metrics import mean_squared_error\n",
    "\n",
    "# Preparar los datos\n",
    "X = sales_clean[['InvoiceMonth']]  # Usamos el mes como característica\n",
    "y = sales_clean[['Revenue']]  # Variable objetivo (ventas)\n",
    "\n",
    "# Dividir los datos en conjuntos de entrenamiento y prueba\n",
    "X_train, X_test, y_train, y_test = train_test_split(X, y, test_size=0.2, random_state=42)\n",
    "\n",
    "# Inicializar el modelo de regresión lineal\n",
    "model = LinearRegression()\n",
    "\n",
    "# Entrenar el modelo con los datos de entrenamiento\n",
    "model.fit(X_train, y_train)\n",
    "\n",
    "# Hacer predicciones con los datos de prueba\n",
    "y_pred = model.predict(X_test)\n",
    "\n",
    "# Evaluar el rendimiento del modelo\n",
    "mse = mean_squared_error(y_test, y_pred)\n",
    "print(\"Error cuadrático medio:\", mse)\n",
    "\n",
    "# Ejemplo de predicción futura (reemplaza los valores de las características con los valores que desees predecir)\n",
    "nuevo_mes = 4  # Por ejemplo, para predecir las ventas en agosto\n",
    "nueva_caracteristica = [[nuevo_mes]]\n",
    "prediccion = model.predict(nueva_caracteristica)\n",
    "print(\"Predicción de ventas en el mes\", nuevo_mes, \":\", prediccion)\n"
   ]
  }
 ],
 "metadata": {
  "kernelspec": {
   "display_name": "bluepandas",
   "language": "python",
   "name": "python3"
  },
  "language_info": {
   "codemirror_mode": {
    "name": "ipython",
    "version": 3
   },
   "file_extension": ".py",
   "mimetype": "text/x-python",
   "name": "python",
   "nbconvert_exporter": "python",
   "pygments_lexer": "ipython3",
   "version": "3.11.9"
  }
 },
 "nbformat": 4,
 "nbformat_minor": 2
}
